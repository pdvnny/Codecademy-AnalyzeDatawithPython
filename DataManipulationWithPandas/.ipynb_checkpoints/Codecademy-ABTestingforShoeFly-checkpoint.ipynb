{
 "cells": [
  {
   "cell_type": "markdown",
   "id": "7ca97c54",
   "metadata": {},
   "source": [
    "## Copyright 2021 Parker Dunn parker_dunn@outlook.com\n",
    "  \n",
    "#### Alternate: pgdunn@bu.edu & pdunn91@gmail.com   \n",
    "#### July 13th, 2021\n",
    "\n",
    "### Codecademy - A/B Testing for ShoeFly.com"
   ]
  },
  {
   "cell_type": "markdown",
   "id": "219d9a5e",
   "metadata": {},
   "source": [
    "Skill Path: Analyze Data with Python  \n",
    "Section: Data Manipulation with Pandas  \n",
    "Topic: Aggregates in Pandas"
   ]
  },
  {
   "cell_type": "markdown",
   "id": "216441f1",
   "metadata": {},
   "source": [
    "### Assignment Context\n",
    "\n",
    "This mini-project was a way to review generating aggregate statistics about data in a pandas DataFrame. I have now learned the basics of pandas DataFrames and how to create and view aggregate statisitics from the DataFrames. My previous mini-project \"Petal Power Inventory\" demonstrates the basic skills, and this mini-project will cover some of the fundamentals of generating a viewing statistics."
   ]
  },
  {
   "cell_type": "markdown",
   "id": "dde7b639",
   "metadata": {},
   "source": [
    "### Assignment Description\n",
    "\n",
    "\"Our favorite online shoe store, ShoeFly.com is performing an A/B test. They have two different versions of an ad, which they have placed in emails, as well as in banner ads on Facebook, Twitter, and Google. They want to know how the two ads are performing on each of the different platforms on each day of the wee. Help them analyze the data using aggregate measures.\""
   ]
  },
  {
   "cell_type": "code",
   "execution_count": 1,
   "id": "eeebe544",
   "metadata": {},
   "outputs": [],
   "source": [
    "# import codecademylib\n",
    "# Data provided for the assignment in \"ad_clicks.csv\""
   ]
  },
  {
   "cell_type": "markdown",
   "id": "a78e8ec2",
   "metadata": {},
   "source": [
    "\"*import codecademylib*\" was included the assignment template. This is not a package that can be imported here so that line is commented out.\n",
    "\n",
    "The contents of *codecademylib* were not explicitly provided. The webpage and contents can be downloaded but the contents of the package are not clearly specified.\n",
    "\n",
    "I was able to open and generate a copy of *ad_clicks.csv*, so that file can still be imported and the script can be run here."
   ]
  },
  {
   "cell_type": "code",
   "execution_count": 4,
   "id": "2e0d5d94",
   "metadata": {},
   "outputs": [
    {
     "name": "stdout",
     "output_type": "stream",
     "text": [
      "                                user_id utm_source            day  \\\n",
      "0  008b7c6c-7272-471e-b90e-930d548bd8d7     google   6 - Saturday   \n",
      "1  009abb94-5e14-4b6c-bb1c-4f4df7aa7557   facebook     7 - Sunday   \n",
      "2  00f5d532-ed58-4570-b6d2-768df5f41aed    twitter    2 - Tuesday   \n",
      "3  011adc64-0f44-4fd9-a0bb-f1506d2ad439     google    2 - Tuesday   \n",
      "4  012137e6-7ae7-4649-af68-205b4702169c   facebook     7 - Sunday   \n",
      "5  013b0072-7b72-40e7-b698-98b4d0c9967f   facebook     1 - Monday   \n",
      "6  0153d85b-7660-4c39-92eb-1e1acd023280     google   4 - Thursday   \n",
      "7  01555297-d6e6-49ae-aeba-1b196fdbb09f     google  3 - Wednesday   \n",
      "8  018cea61-19ea-4119-895b-1a4309ccb148      email     1 - Monday   \n",
      "9  01a210c3-fde0-4e6f-8efd-4f0e38730ae6      email    2 - Tuesday   \n",
      "\n",
      "  ad_click_timestamp experimental_group  \n",
      "0               7:18                  A  \n",
      "1                NaN                  B  \n",
      "2                NaN                  A  \n",
      "3                NaN                  B  \n",
      "4                NaN                  B  \n",
      "5                NaN                  A  \n",
      "6                NaN                  A  \n",
      "7                NaN                  A  \n",
      "8              18:33                  A  \n",
      "9              15:21                  B  \n"
     ]
    }
   ],
   "source": [
    "import pandas as pd\n",
    "\n",
    "ad_clicks = pd.read_csv(\"ad_clicks.csv\")\n",
    "\n",
    "print(ad_clicks.head(10))"
   ]
  },
  {
   "cell_type": "code",
   "execution_count": 5,
   "id": "afb3723c",
   "metadata": {},
   "outputs": [
    {
     "name": "stdout",
     "output_type": "stream",
     "text": [
      "  utm_source  user_id\n",
      "0      email      255\n",
      "1   facebook      504\n",
      "2     google      680\n",
      "3    twitter      215\n"
     ]
    }
   ],
   "source": [
    "# Which ad platfom is getting ShoeFly the most views?\n",
    "# i.e. How many views come from each utm_source?\n",
    "\n",
    "source_views = ad_clicks.groupby(\"utm_source\").user_id.count().reset_index()\n",
    "print(source_views)"
   ]
  },
  {
   "cell_type": "code",
   "execution_count": 6,
   "id": "5295642f",
   "metadata": {},
   "outputs": [
    {
     "name": "stdout",
     "output_type": "stream",
     "text": [
      "7:18\n",
      "<class 'str'>\n",
      "nan\n",
      "<class 'float'>\n",
      "                                user_id utm_source            day  \\\n",
      "0  008b7c6c-7272-471e-b90e-930d548bd8d7     google   6 - Saturday   \n",
      "1  009abb94-5e14-4b6c-bb1c-4f4df7aa7557   facebook     7 - Sunday   \n",
      "2  00f5d532-ed58-4570-b6d2-768df5f41aed    twitter    2 - Tuesday   \n",
      "3  011adc64-0f44-4fd9-a0bb-f1506d2ad439     google    2 - Tuesday   \n",
      "4  012137e6-7ae7-4649-af68-205b4702169c   facebook     7 - Sunday   \n",
      "5  013b0072-7b72-40e7-b698-98b4d0c9967f   facebook     1 - Monday   \n",
      "6  0153d85b-7660-4c39-92eb-1e1acd023280     google   4 - Thursday   \n",
      "7  01555297-d6e6-49ae-aeba-1b196fdbb09f     google  3 - Wednesday   \n",
      "8  018cea61-19ea-4119-895b-1a4309ccb148      email     1 - Monday   \n",
      "9  01a210c3-fde0-4e6f-8efd-4f0e38730ae6      email    2 - Tuesday   \n",
      "\n",
      "  ad_click_timestamp experimental_group  is_click  \n",
      "0               7:18                  A      True  \n",
      "1                NaN                  B     False  \n",
      "2                NaN                  A     False  \n",
      "3                NaN                  B     False  \n",
      "4                NaN                  B     False  \n",
      "5                NaN                  A     False  \n",
      "6                NaN                  A     False  \n",
      "7                NaN                  A     False  \n",
      "8              18:33                  A      True  \n",
      "9              15:21                  B      True  \n"
     ]
    }
   ],
   "source": [
    "# \"If the column ad_click_timestamp is not null, then someone actually clicked on the ad that was displayed.\"\n",
    "# creating a new column or this information\n",
    "\n",
    "print(ad_clicks.iloc[0].ad_click_timestamp)\n",
    "print(type(ad_clicks.iloc[0].ad_click_timestamp))\n",
    "\n",
    "print(ad_clicks.iloc[1].ad_click_timestamp)\n",
    "print(type(ad_clicks.iloc[1].ad_click_timestamp))\n",
    "\n",
    "# Original solution:\n",
    "# bool_click = lambda timestamp: True if (type(timestamp) == str) else False\n",
    "# ad_clicks[\"is_click\"] = ad_clicks.ad_click_timestamp.apply(bool_click)\n",
    "\n",
    "# Revised solution (which is a little more efficient)\n",
    "ad_clicks[\"is_click\"] = ~ad_clicks.ad_click_timestamp.isnull()\n",
    "\n",
    "print(ad_clicks.head(10))"
   ]
  },
  {
   "cell_type": "code",
   "execution_count": 9,
   "id": "cbc6126d",
   "metadata": {},
   "outputs": [
    {
     "name": "stdout",
     "output_type": "stream",
     "text": [
      "  utm_source  is_click  user_id\n",
      "0      email     False      175\n",
      "1      email      True       80\n",
      "2   facebook     False      324\n",
      "3   facebook      True      180\n",
      "4     google     False      441\n",
      "5     google      True      239\n",
      "6    twitter     False      149\n",
      "7    twitter      True       66 \n",
      "\n",
      "is_click utm_source  False  True\n",
      "0             email    175    80\n",
      "1          facebook    324   180\n",
      "2            google    441   239\n",
      "3           twitter    149    66\n"
     ]
    }
   ],
   "source": [
    "# Need to figure out the percent of people who clicked on ads from each utm_source\n",
    "\n",
    "clicks_by_source = ad_clicks.groupby([\"utm_source\",\"is_click\"]).user_id.count().reset_index()\n",
    "print(clicks_by_source.head(10),\"\\n\")\n",
    "\n",
    "clicks_pivot = clicks_by_source.pivot(columns=\"is_click\",index=\"utm_source\",values=\"user_id\").reset_index()\n",
    "# only used \"user_id\" as values because that's what was counted\n",
    "print(clicks_pivot)"
   ]
  },
  {
   "cell_type": "markdown",
   "id": "5a9995f0",
   "metadata": {},
   "source": [
    "Percentage of views that turned into clicks\n",
    "- Email: about 30% of views resulted in clicks\n",
    "- Facebook: about 35% of views resulted in clicks\n",
    "- Google: about 35% of views resulted in clicks\n",
    "- Twitter: about 30% of views resulted in clicks\n",
    "\n",
    "Facebook and Google had the greatest total ad views (a.k.a. greatest number of times being displayed to customers) and also had the highest rates of views turning into clicks on the ShoeFly.com ad."
   ]
  },
  {
   "cell_type": "code",
   "execution_count": 11,
   "id": "16a3dea5",
   "metadata": {},
   "outputs": [
    {
     "name": "stdout",
     "output_type": "stream",
     "text": [
      "Index(['utm_source', False, True, 'percent_clicked'], dtype='object', name='is_click') \n",
      "\n",
      "is_click utm_source  False  True  percent_clicked\n",
      "0             email    175    80         0.313725\n",
      "1          facebook    324   180         0.357143\n",
      "2            google    441   239         0.351471\n",
      "3           twitter    149    66         0.306977\n"
     ]
    }
   ],
   "source": [
    "# Adding a percentage statistic to \"clicks_pivot\" for the rate of users clicking on the ad\n",
    "\n",
    "print(clicks_pivot.columns,\"\\n\")\n",
    "clicks_pivot[\"percent_clicked\"] = clicks_pivot[True] / (clicks_pivot[False] + clicks_pivot[True])\n",
    "# My original solution had the True and False as strings not booleans\n",
    "# NOTE: using True/False in this context seems unusual but works\n",
    "print(clicks_pivot)"
   ]
  },
  {
   "cell_type": "code",
   "execution_count": 13,
   "id": "4070a411",
   "metadata": {},
   "outputs": [
    {
     "name": "stdout",
     "output_type": "stream",
     "text": [
      "  experimental_group  user_id\n",
      "0                  A      827\n",
      "1                  B      827\n"
     ]
    }
   ],
   "source": [
    "# Were approximately the same number of people shown both ads?\n",
    "\n",
    "\n",
    "exp_group = ad_clicks.groupby(\"experimental_group\").user_id.count().reset_index()\n",
    "print(exp_group)"
   ]
  },
  {
   "cell_type": "code",
   "execution_count": 15,
   "id": "9a9dbbce",
   "metadata": {},
   "outputs": [
    {
     "name": "stdout",
     "output_type": "stream",
     "text": [
      "is_click experimental_group  False  True\n",
      "0                         A    517   310\n",
      "1                         B    572   255\n"
     ]
    }
   ],
   "source": [
    "# Check if a greater percentage of users clicked on Ad A or Ad B\n",
    "\n",
    "clicks_by_ad = ad_clicks.groupby([\"experimental_group\",\"is_click\"]).user_id.count().reset_index()\n",
    "clicks_by_ad_pivot = clicks_by_ad.pivot(columns=\"is_click\", index=\"experimental_group\",values=\"user_id\").reset_index()\n",
    "print(clicks_by_ad_pivot)"
   ]
  },
  {
   "cell_type": "code",
   "execution_count": 16,
   "id": "0de1849e",
   "metadata": {},
   "outputs": [
    {
     "name": "stdout",
     "output_type": "stream",
     "text": [
      "                                user_id utm_source            day  \\\n",
      "0  008b7c6c-7272-471e-b90e-930d548bd8d7     google   6 - Saturday   \n",
      "1  00f5d532-ed58-4570-b6d2-768df5f41aed    twitter    2 - Tuesday   \n",
      "2  013b0072-7b72-40e7-b698-98b4d0c9967f   facebook     1 - Monday   \n",
      "3  0153d85b-7660-4c39-92eb-1e1acd023280     google   4 - Thursday   \n",
      "4  01555297-d6e6-49ae-aeba-1b196fdbb09f     google  3 - Wednesday   \n",
      "5  018cea61-19ea-4119-895b-1a4309ccb148      email     1 - Monday   \n",
      "6  01fb228a-9d28-4cde-932c-59b933fa763b      email     7 - Sunday   \n",
      "7  02405d93-9c33-4034-894a-b9523956a3ad    twitter    2 - Tuesday   \n",
      "8  0254b59f-082d-4a5a-913d-4f2bba267768     google     5 - Friday   \n",
      "9  041deef8-b242-4114-afd0-e584784ec9f0     google  3 - Wednesday   \n",
      "\n",
      "  ad_click_timestamp experimental_group  is_click  \n",
      "0               7:18                  A      True  \n",
      "1                NaN                  A     False  \n",
      "2                NaN                  A     False  \n",
      "3                NaN                  A     False  \n",
      "4                NaN                  A     False  \n",
      "5              18:33                  A      True  \n",
      "6                NaN                  A     False  \n",
      "7                NaN                  A     False  \n",
      "8                NaN                  A     False  \n",
      "9              10:54                  A      True   \n",
      "\n",
      "                                user_id utm_source            day  \\\n",
      "0  009abb94-5e14-4b6c-bb1c-4f4df7aa7557   facebook     7 - Sunday   \n",
      "1  011adc64-0f44-4fd9-a0bb-f1506d2ad439     google    2 - Tuesday   \n",
      "2  012137e6-7ae7-4649-af68-205b4702169c   facebook     7 - Sunday   \n",
      "3  01a210c3-fde0-4e6f-8efd-4f0e38730ae6      email    2 - Tuesday   \n",
      "4  01adb2e7-f711-4ae4-a7c6-29f48457eea1     google  3 - Wednesday   \n",
      "5  01ae0361-7d17-4760-a2c8-23977a46fb78   facebook   4 - Thursday   \n",
      "6  023598b8-09e2-40ed-9c90-34d607094ff9     google    2 - Tuesday   \n",
      "7  02d8dba0-5d12-4983-a407-63fab9757d94     google  3 - Wednesday   \n",
      "8  0378e9e1-0ad8-4a26-8190-ebb3370239d3   facebook     1 - Monday   \n",
      "9  0429608e-61f3-4df0-ba45-3633029a14db     google     7 - Sunday   \n",
      "\n",
      "  ad_click_timestamp experimental_group  is_click  \n",
      "0                NaN                  B     False  \n",
      "1                NaN                  B     False  \n",
      "2                NaN                  B     False  \n",
      "3              15:21                  B      True  \n",
      "4                NaN                  B     False  \n",
      "5               7:11                  B      True  \n",
      "6                NaN                  B     False  \n",
      "7                NaN                  B     False  \n",
      "8                NaN                  B     False  \n",
      "9                NaN                  B     False   \n",
      "\n"
     ]
    }
   ],
   "source": [
    "# \"Product manager has\" asked for information about each ad based on the day of the week\n",
    "\n",
    "a_clicks = ad_clicks[ad_clicks.experimental_group == \"A\"].reset_index(drop=True)\n",
    "b_clicks = ad_clicks[ad_clicks.experimental_group == \"B\"].reset_index(drop=True)\n",
    "print(a_clicks.head(10), \"\\n\")\n",
    "print(b_clicks.head(10), \"\\n\")"
   ]
  },
  {
   "cell_type": "code",
   "execution_count": 18,
   "id": "8e337dfb",
   "metadata": {},
   "outputs": [
    {
     "name": "stdout",
     "output_type": "stream",
     "text": [
      "is_click            day  False  True\n",
      "0            1 - Monday     70    43\n",
      "1           2 - Tuesday     76    43\n",
      "2         3 - Wednesday     86    38\n",
      "3          4 - Thursday     69    47\n",
      "4            5 - Friday     77    51\n",
      "5          6 - Saturday     73    45\n",
      "6            7 - Sunday     66    43\n"
     ]
    }
   ],
   "source": [
    "a_clicks_by_day = a_clicks.groupby([\"day\",\"is_click\"]).user_id.count().reset_index()\n",
    "b_clicks_by_day = b_clicks.groupby([\"day\",\"is_click\"]).user_id.count().reset_index()\n",
    "a_clicks_by_day.rename(columns={\"user_id\" : \"clicks_count\"},inplace=True)\n",
    "b_clicks_by_day.rename(columns={\"user_id\" : \"clicks_count\"},inplace=True)\n",
    "\n",
    "a_clicks_by_day_pivot = a_clicks_by_day.pivot(columns=\"is_click\",index=\"day\",values=\"clicks_count\").reset_index()\n",
    "b_clicks_by_day_pivot = b_clicks_by_day.pivot(columns=\"is_click\",index=\"day\",values=\"clicks_count\").reset_index()\n",
    "print(a_clicks_by_day_pivot)\n"
   ]
  },
  {
   "cell_type": "code",
   "execution_count": 21,
   "id": "a1b6ecae",
   "metadata": {},
   "outputs": [
    {
     "name": "stdout",
     "output_type": "stream",
     "text": [
      "is_click            day  False  True  percentage\n",
      "0            1 - Monday     70    43   38.053097\n",
      "1           2 - Tuesday     76    43   36.134454\n",
      "2         3 - Wednesday     86    38   30.645161\n",
      "3          4 - Thursday     69    47   40.517241\n",
      "4            5 - Friday     77    51   39.843750\n",
      "5          6 - Saturday     73    45   38.135593\n",
      "6            7 - Sunday     66    43   39.449541 \n",
      "\n",
      "is_click            day  False  True  percentage\n",
      "0            1 - Monday     81    32   28.318584\n",
      "1           2 - Tuesday     74    45   37.815126\n",
      "2         3 - Wednesday     89    35   28.225806\n",
      "3          4 - Thursday     87    29   25.000000\n",
      "4            5 - Friday     90    38   29.687500\n",
      "5          6 - Saturday     76    42   35.593220\n",
      "6            7 - Sunday     75    34   31.192661\n"
     ]
    }
   ],
   "source": [
    "a_clicks_by_day_pivot[\"percentage\"] = (a_clicks_by_day_pivot[True] \\\n",
    "          / (a_clicks_by_day_pivot[True] + a_clicks_by_day_pivot[False]) \\\n",
    "           * 100)\n",
    "\n",
    "b_clicks_by_day_pivot[\"percentage\"] = (b_clicks_by_day_pivot[True] \\\n",
    "          / (b_clicks_by_day_pivot[True] + b_clicks_by_day_pivot[False]) \\\n",
    "           * 100)\n",
    "print(a_clicks_by_day_pivot,\"\\n\")\n",
    "print(b_clicks_by_day_pivot)"
   ]
  },
  {
   "cell_type": "markdown",
   "id": "5b255a8a",
   "metadata": {},
   "source": [
    "The overall number of clicks and views does not seem to vary much throughout the weekdays.\n",
    "\n",
    "The click rate does not change much either, but I did not test if the variations, on Wednesday for ad A and Tuesday for ad B in particular, are significant. \n",
    "\n",
    "Ad B looks like it has a greater variation in click percentages throughout the week. Thus, the high of 37.8% on Tuesday and the low of 25.0% on Thursday appear to be reasonable variation over the course of a week more so than a statistically significant difference on these two days.\n",
    "\n",
    "Ad A looks like it has low variation in general except for the click percentage dip on Wednesdays. The dip is not extremely large, but the Wednesday result might be significant because of the consistency on the other days."
   ]
  },
  {
   "cell_type": "markdown",
   "id": "598fa61b",
   "metadata": {},
   "source": [
    "### Conclusion:\n",
    "\n",
    "In terms of Ad A vs Ad B, I would recommend Ad A based on the data. Ad A had higher click percentages on average over the course of the week. Although the ad had a down day on Wednesday, the ad A click percentages are the same or higher for every day of the week compared to ad B."
   ]
  }
 ],
 "metadata": {
  "kernelspec": {
   "display_name": "Python 3",
   "language": "python",
   "name": "python3"
  },
  "language_info": {
   "codemirror_mode": {
    "name": "ipython",
    "version": 3
   },
   "file_extension": ".py",
   "mimetype": "text/x-python",
   "name": "python",
   "nbconvert_exporter": "python",
   "pygments_lexer": "ipython3",
   "version": "3.9.5"
  }
 },
 "nbformat": 4,
 "nbformat_minor": 5
}
