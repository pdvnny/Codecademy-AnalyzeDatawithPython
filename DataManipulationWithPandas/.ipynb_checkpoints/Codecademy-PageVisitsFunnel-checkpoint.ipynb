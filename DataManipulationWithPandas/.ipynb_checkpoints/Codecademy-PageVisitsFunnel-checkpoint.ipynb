{
 "cells": [
  {
   "cell_type": "markdown",
   "id": "8bc0201e",
   "metadata": {},
   "source": [
    "## Copyright 2021 Parker Dunn parker_dunn@outlook.com\n",
    "  \n",
    "#### Alternate: pgdunn@bu.edu & pdunn91@gmail.com   \n",
    "#### July 20th, 2021\n",
    "\n",
    "### Codecademy - Page Visits Funnel"
   ]
  },
  {
   "cell_type": "markdown",
   "id": "c81b4e49",
   "metadata": {},
   "source": [
    "Skill Path: Analyze Data with Python  \n",
    "Section: Data Manipulation with Pandas  \n",
    "Topic: Multiple tables in Pandas"
   ]
  },
  {
   "cell_type": "markdown",
   "id": "379cd059",
   "metadata": {},
   "source": [
    "### Assignment Context\n",
    "\n",
    "This mini-project was meant to be a demonstration of what I have learned about working with multiple pandas dataframe tables. It is one part of a larger lesson about manipulating data with pandas/dataframes.  \n",
    "  \n",
    "This assignment is sort of a continuation of two previous pandas projects: \"Petal Power Inventory\" and \"A/B Testing for ShoeFly.\" The collection of three projects demonstrates many of the things that I have learned to do with the pandas library."
   ]
  },
  {
   "cell_type": "markdown",
   "id": "c9d65d56",
   "metadata": {},
   "source": [
    "### Assignment Description\n",
    "\n",
    "\"Cool T-Shirts Inc. has asked you to analyze data on visits to their website. Your job is to build a *funnel*, which is a description of how many people continue to the next step of a multi-step process.  \n",
    "  \n",
    "In this case, our funnel is going to describe the following process:\n",
    "1. A user visits CoolTShirts.com\n",
    "2. A user adds a t-shirt to their cart\n",
    "3. A user clicks \"checkout\"\n",
    "4. A user actually purchases a t-shirt\""
   ]
  },
  {
   "cell_type": "code",
   "execution_count": 1,
   "id": "78b2fc59",
   "metadata": {},
   "outputs": [],
   "source": [
    "# import codecademylib\n",
    "# Data provided for the assignment in visits.csv, cart.csv, checkout.csv, and purchase.csv"
   ]
  },
  {
   "cell_type": "markdown",
   "id": "ecd690b2",
   "metadata": {},
   "source": [
    "\"*import codecademylib*\" was included the assignment template. This is not a package that can be imported here so that line is commented out.\n",
    "\n",
    "The contents of *codecademylib* were not explicitly provided. The webpage and contents can be downloaded but the contents of the package are not clearly specified.\n",
    "\n",
    "I was able to open and generate a copy of *visits.csv*, *cart.csv*, *checkout.csv*, and *purchase.csv* so that the files can still be imported and the script can be run here."
   ]
  },
  {
   "cell_type": "code",
   "execution_count": 2,
   "id": "532d4045",
   "metadata": {},
   "outputs": [
    {
     "name": "stdout",
     "output_type": "stream",
     "text": [
      "Visits - First 8 rows\n",
      "                                 user_id          visit_time\n",
      "0  943647ef-3682-4750-a2e1-918ba6f16188 2017-04-07 15:14:00\n",
      "1  0c3a3dd0-fb64-4eac-bf84-ba069ce409f2 2017-01-26 14:24:00\n",
      "2  6e0b2d60-4027-4d9a-babd-0e7d40859fb1 2017-08-20 08:23:00\n",
      "3  6879527e-c5a6-4d14-b2da-50b85212b0ab 2017-11-04 18:15:00\n",
      "4  a84327ff-5daa-4ba1-b789-d5b4caf81e96 2017-02-27 11:25:00\n",
      "5  7bc62113-d51d-4e6b-85e0-1cf29e3de74a 2017-06-03 20:05:00\n",
      "6  6f22cd44-bc63-4449-a9af-2651859da2f9 2017-03-18 23:09:00\n",
      "7  49a6399b-c095-4e42-92eb-af90abe2bb6a 2017-01-10 12:09:00\n",
      "\n",
      "Cart - first 8 rows\n",
      "                                 user_id           cart_time\n",
      "0  2be90e7c-9cca-44e0-bcc5-124b945ff168 2017-11-07 20:45:00\n",
      "1  4397f73f-1da3-4ab3-91af-762792e25973 2017-05-27 01:35:00\n",
      "2  a9db3d4b-0a0a-4398-a55a-ebb2c7adf663 2017-03-04 10:38:00\n",
      "3  b594862a-36c5-47d5-b818-6e9512b939b3 2017-09-27 08:22:00\n",
      "4  a68a16e2-94f0-4ce8-8ce3-784af0bbb974 2017-07-26 15:48:00\n",
      "5  0c998868-9961-490b-8ec2-9981ba667027 2017-11-27 08:54:00\n",
      "6  f783c680-1d9a-437d-9f45-7827299b78fa 2017-06-25 08:08:00\n",
      "7  f3dd7631-3cf6-4d49-9c6e-b48eda4432b5 2017-01-04 09:57:00\n",
      "\n",
      "Checkout - first 8 rows\n",
      "                                 user_id       checkout_time\n",
      "0  d33bdc47-4afa-45bc-b4e4-dbe948e34c0d 2017-06-25 09:29:00\n",
      "1  4ac186f0-9954-4fea-8a27-c081e428e34e 2017-04-07 20:11:00\n",
      "2  3c9c78a7-124a-4b77-8d2e-e1926e011e7d 2017-07-13 11:38:00\n",
      "3  89fe330a-8966-4756-8f7c-3bdbcd47279a 2017-04-20 16:15:00\n",
      "4  3ccdaf69-2d30-40de-b083-51372881aedd 2017-01-08 20:52:00\n",
      "5  a25aad6a-55af-4ddc-92d1-e8c58f855329 2017-01-05 20:07:00\n",
      "6  3327f8fb-c5a0-421e-a0d1-fb619b79ab45 2017-08-17 04:20:00\n",
      "7  9c3ea739-7968-429c-87f6-f213ef7b9fcb 2017-04-16 21:22:00\n",
      "\n",
      "Purchase - first 8 rows \n",
      "                                 user_id       purchase_time\n",
      "0  4b44ace4-2721-47a0-b24b-15fbfa2abf85 2017-05-11 04:25:00\n",
      "1  02e684ae-a448-408f-a9ff-dcb4a5c99aac 2017-09-05 08:45:00\n",
      "2  4b4bc391-749e-4b90-ab8f-4f6e3c84d6dc 2017-11-20 20:49:00\n",
      "3  a5dbb25f-3c36-4103-9030-9f7c6241cd8d 2017-01-22 15:18:00\n",
      "4  46a3186d-7f5a-4ab9-87af-84d05bfd4867 2017-06-11 11:32:00\n",
      "5  5ae833dc-8866-4baa-9617-2009d6474ffa 2017-07-26 16:46:00\n",
      "6  70688015-a755-4b8a-a963-3528d85c8048 2017-09-24 08:05:00\n",
      "7  c504ff0d-eefe-472b-826c-471142311857 2017-05-02 07:56:00\n"
     ]
    }
   ],
   "source": [
    "import pandas as pd\n",
    "\n",
    "visits = pd.read_csv(\"visits.csv\", parse_dates = [1])\n",
    "cart = pd.read_csv(\"cart.csv\", parse_dates = [1])\n",
    "checkout = pd.read_csv(\"checkout.csv\", parse_dates = [1])\n",
    "purchase = pd.read_csv(\"purchase.csv\", parse_dates = [1])\n",
    "\n",
    "print(\"Visits - First 8 rows\\n\",visits.head(8))\n",
    "print(\"\\nCart - first 8 rows\\n\", cart.head(8))\n",
    "print(\"\\nCheckout - first 8 rows\\n\",checkout.head(8))\n",
    "print(\"\\nPurchase - first 8 rows \\n\", purchase.head(8))"
   ]
  },
  {
   "cell_type": "code",
   "execution_count": 3,
   "id": "4253e547",
   "metadata": {},
   "outputs": [
    {
     "name": "stdout",
     "output_type": "stream",
     "text": [
      "                                user_id          visit_time  \\\n",
      "0  943647ef-3682-4750-a2e1-918ba6f16188 2017-04-07 15:14:00   \n",
      "1  0c3a3dd0-fb64-4eac-bf84-ba069ce409f2 2017-01-26 14:24:00   \n",
      "2  6e0b2d60-4027-4d9a-babd-0e7d40859fb1 2017-08-20 08:23:00   \n",
      "3  6879527e-c5a6-4d14-b2da-50b85212b0ab 2017-11-04 18:15:00   \n",
      "4  a84327ff-5daa-4ba1-b789-d5b4caf81e96 2017-02-27 11:25:00   \n",
      "\n",
      "            cart_time  \n",
      "0                 NaT  \n",
      "1 2017-01-26 14:44:00  \n",
      "2 2017-08-20 08:31:00  \n",
      "3                 NaT  \n",
      "4                 NaT                                      user_id          visit_time cart_time\n",
      "1995  33913ac2-03da-45ae-8fc3-fea39df827c6 2017-03-25 03:29:00       NaT\n",
      "1996  4f850132-b99d-4623-80e6-6e61d003577e 2017-01-08 09:57:00       NaT\n",
      "1997  f0830b9b-1f5c-4e74-b63d-3f847cc6ce70 2017-09-07 12:56:00       NaT\n",
      "1998  b01bffa7-63ba-4cd3-9d93-eb1477c23831 2017-07-20 04:37:00       NaT\n",
      "1999  0336ca81-8d68-443f-9248-ac0b8ad147d5 2017-11-15 10:11:00       NaT\n",
      "\n",
      "Number of entries in merged df: 2000\n",
      "\n",
      "\n",
      " 2000\n"
     ]
    }
   ],
   "source": [
    "# Requested to combine visits and cart using a left merge\n",
    "# Order not specified but seems like we are looking at all visits then ...\n",
    "# how many visits turned into users starting a cart\n",
    "\n",
    "visits_cart = pd.merge(visits, cart, how=\"left\")\n",
    "print(visits_cart.head(5), visits_cart.tail(5))\n",
    "print(\"\\nNumber of entries in merged df: {}\\n\".format(visits_cart.user_id.count()))\n",
    "print(\"\\n\",len(visits_cart))   # Alternate approach suggested"
   ]
  },
  {
   "cell_type": "code",
   "execution_count": 4,
   "id": "67ab1b2c",
   "metadata": {},
   "outputs": [
    {
     "name": "stdout",
     "output_type": "stream",
     "text": [
      "Number of null timestamps: 1652\n"
     ]
    }
   ],
   "source": [
    "# Requested: \"How many timestamps are null for the cart_time col?\"\n",
    "\n",
    "print(\"Number of null timestamps: {}\"\\\n",
    "          .format(visits_cart.cart_time.isnull().sum()))"
   ]
  },
  {
   "cell_type": "markdown",
   "id": "df3daeed",
   "metadata": {},
   "source": [
    "The fact that there are 1652 null timestamps for \"cart_time\" in the merged dataframe means 1652 occurances of someone visiting the company website and not adding anything to the cart.  \n",
    "  \n",
    "This also suggests that 348 of 2000 visitors to the website added a t-shirt to their cart."
   ]
  },
  {
   "cell_type": "markdown",
   "id": "556d8438",
   "metadata": {},
   "source": [
    "__Checking on some information about the length and contents of the dataframes__"
   ]
  },
  {
   "cell_type": "code",
   "execution_count": 5,
   "id": "baa630be",
   "metadata": {},
   "outputs": [
    {
     "name": "stdout",
     "output_type": "stream",
     "text": [
      "There are 2000 entries in the visits dataframe\n",
      "\n",
      "There are 2000 unique user IDs in the visits dataframe.\n"
     ]
    }
   ],
   "source": [
    "# Visits.csv\n",
    "\n",
    "print(\"There are {} entries in the visits dataframe\".format(len(visits)))\n",
    "print(\"\\nThere are {} unique user IDs in the visits dataframe.\".format(visits.user_id.nunique()))"
   ]
  },
  {
   "cell_type": "code",
   "execution_count": 6,
   "id": "2389c395",
   "metadata": {},
   "outputs": [
    {
     "name": "stdout",
     "output_type": "stream",
     "text": [
      "There are 348 entries in the cart dataframe.\n",
      "\n",
      "There are 348 unique user IDs in the cart dataframe.\n"
     ]
    }
   ],
   "source": [
    "# cart.csv\n",
    "\n",
    "print(\"There are {} entries in the cart dataframe.\".format(len(cart)))\n",
    "print(\"\\nThere are {} unique user IDs in the cart dataframe.\".format(cart.user_id.nunique()))"
   ]
  },
  {
   "cell_type": "code",
   "execution_count": 7,
   "id": "ccf7aca1",
   "metadata": {},
   "outputs": [
    {
     "name": "stdout",
     "output_type": "stream",
     "text": [
      "There are 360 entries in the checkout dataframe.\n",
      "\n",
      "There are 226 unique user IDs in the checkout dataframe.\n"
     ]
    }
   ],
   "source": [
    "# checkout.csv\n",
    "\n",
    "print(\"There are {} entries in the checkout dataframe.\".format(len(checkout)))\n",
    "print(\"\\nThere are {} unique user IDs in the checkout dataframe.\".format(checkout.user_id.nunique()))"
   ]
  },
  {
   "cell_type": "markdown",
   "id": "caa828b8",
   "metadata": {},
   "source": [
    "The instructions in the assignment do indicate that I was supposed to account for the repeated unique user IDs in checkout.  \n",
    "\n",
    "From the dataframe information printed in the three cells above, there is clearly repeated user IDs, which isn't necessarily a barrier to working with the data. However, later in the assignment (*see below*), I was instructed to:  \n",
    "\n",
    "\"Repeat the left merge for `cart` and `checkout` and count `null` values. What percentage of users put items in their cart, but did not proceed to checkout?\"  \n",
    "\n",
    "Since the assignment did not indicate at all that I should account for repeat user IDs in the `checkout` data, I will not change any of the calculations below. However, The next section will previous extract this checkout data and show some of the repeats for confirmation.\n"
   ]
  },
  {
   "cell_type": "code",
   "execution_count": 33,
   "id": "2e8ecd0a",
   "metadata": {},
   "outputs": [
    {
     "name": "stdout",
     "output_type": "stream",
     "text": [
      "                                 user_id  checkout_time\n",
      "0   00065d4e-909c-48b5-a69e-27a1abbdbb87              1\n",
      "1   009270e0-1d69-4090-9f9a-b0b874b7e6e0              1\n",
      "2   0182a7b9-2099-4476-8f7d-51f2c2f71dff              2\n",
      "3   02e684ae-a448-408f-a9ff-dcb4a5c99aac              2\n",
      "4   04eaa41a-e9d0-4d10-a01b-8f21ec2337cd              1\n",
      "5   05b44764-bb83-4b08-b3ff-c6b31d4e31d3              1\n",
      "6   079a26c7-e8e8-4ac5-bd92-1ec65edb1830              1\n",
      "7   0ae3bec2-a3b2-4803-9a00-7aa64ebb27f9              1\n",
      "8   0b69d940-dd3c-4851-88dd-8044f4be13d2              1\n",
      "9   0c230d3b-3da4-47f6-860f-71e2bc4030b9              1\n",
      "10  0c3a3dd0-fb64-4eac-bf84-ba069ce409f2              1\n",
      "11  0c998868-9961-490b-8ec2-9981ba667027              1\n",
      "12  0d47febd-a7dc-487f-a65a-698c62ab8696              1\n",
      "13  0d7dd72a-4671-4d44-abaa-45497615bfcd              2\n",
      "14  0ea4cc68-dae4-4e35-b3e0-f0889932e1b5              2\n",
      "15  0f9c4be6-1b4f-4500-aebc-73e46a09c52e              1\n",
      "16  0fe7eefc-a294-44c3-b462-d78ae2016ccc              1\n",
      "17  117cada5-b6c9-44ae-b08e-65a047a0b896              1\n",
      "18  11e44eed-7081-469c-bf89-4ab00f84b849              2\n",
      "19  12431684-c5ef-4d88-8a91-7ed890099837              1\n",
      "<class 'pandas.core.frame.DataFrame'>\n"
     ]
    }
   ],
   "source": [
    "# Grouping checkout by user_id and displaying frequency of user_ids\n",
    "\n",
    "checkout_by_user = checkout.groupby(\"user_id\").checkout_time.count().reset_index()\n",
    "print(checkout_by_user.head(20))\n",
    "print(type(checkout_by_user))"
   ]
  },
  {
   "cell_type": "code",
   "execution_count": 19,
   "id": "bf73ef6e",
   "metadata": {},
   "outputs": [
    {
     "name": "stdout",
     "output_type": "stream",
     "text": [
      "Percentage of users who did not add a t-shirt to their cart: 82.60%\n"
     ]
    }
   ],
   "source": [
    "# Requested: \"What percent of users who visited Cool T-Shirts Inc. ended up not \n",
    "# placing a t-shirt in their cart?\"\n",
    "\n",
    "per_no_cart = (float(visits_cart.cart_time.isnull().sum()) / len(visits_cart))\n",
    "\n",
    "print(\"Percentage of users who did not add a t-shirt to their cart: {:.2%}\"\\\n",
    "                .format(per_no_cart))"
   ]
  },
  {
   "cell_type": "code",
   "execution_count": 17,
   "id": "15e4c3f4",
   "metadata": {},
   "outputs": [
    {
     "name": "stdout",
     "output_type": "stream",
     "text": [
      "482\n",
      "Null time values for 'checkout_time': 122\n",
      "Percentage of users who did not checkout: 25.31%\n"
     ]
    }
   ],
   "source": [
    "# Asked to complete a similar \"left\" merge again with cart and checkout this time\n",
    "# counting null values again and determining percentage of users\n",
    "# who did not go to checkout\n",
    "\n",
    "cart_checkout = pd.merge(cart, checkout, how=\"left\")\n",
    "\n",
    "# len(cart_checkout) should contain all entries from cart\n",
    "# regardless of if there is a matching entry in checkout\n",
    "\n",
    "checkout_time_na = cart_checkout.checkout_time.isnull().sum()\n",
    "\n",
    "per_no_checkout = float(checkout_time_na) / len(cart_checkout)\n",
    "print(len(cart_checkout))\n",
    "print(\"Null time values for 'checkout_time': {}\".format(checkout_time_na))\n",
    "print(\"Percentage of users who did not checkout: {:.2%}\"\\\n",
    "          .format(per_no_checkout))"
   ]
  },
  {
   "cell_type": "markdown",
   "id": "0f786190",
   "metadata": {},
   "source": [
    "*__I do not see a problem with my work at this moment, but the numbers don't seem to add up here.__*  \n",
    "\n",
    "\n",
    "It seems odd that we could have 348 users who visited the site and placed an item in their cart then end up with 482 users (a greater number) who had an item in their cart.  \n",
    "  \n",
    "Unless I'm missing something right now, the left merge that creates \"cart_checkout\" should not have more values than the number of carts we found were created when analyzing the \"visits_cart\" data frame.\n",
    "\n",
    "_____\n",
    "\n",
    "Update: I added sections above demonstrating the lengths of the original dataframes. Based on those original data frames, I am not sure how the dataframe merge created a dataframe with more entries than either of the original data frames. I believe the use of a \"left\" merge should have included all `user_id` entries from *cart* and only matching rows from *checkout*.  \n",
    "  \n",
    "I will further investigate this issue if I have time at some point. However, I am not particularly interested in this particular subject and believe I understand how to use pandas the way that this lesson was trying to teach.  \n",
    "  \n",
    "Using a different different variation of `merge()` in the next section to double check that the \"left\" merge happened as expected.\n"
   ]
  },
  {
   "cell_type": "code",
   "execution_count": 21,
   "id": "26110dba",
   "metadata": {},
   "outputs": [
    {
     "name": "stdout",
     "output_type": "stream",
     "text": [
      "Size of outer merge: 482\n",
      "Size of left merge with specific cols: 482\n"
     ]
    }
   ],
   "source": [
    "# Checking on the cart and checkout merge\n",
    "\n",
    "cart_checkout_outer = pd.merge(cart, checkout, how=\"outer\")\n",
    "print(\"Size of outer merge: {}\".format(len(cart_checkout_outer)))\n",
    "\n",
    "cart_checkout_specific_cols = pd.merge(cart, checkout, left_on=\"user_id\",\\\n",
    "                                      right_on=\"user_id\", how=\"left\")\n",
    "print(\"Size of left merge with specific cols: {}\".format(len(cart_checkout_specific_cols)))"
   ]
  },
  {
   "cell_type": "markdown",
   "id": "6c4e1cf2",
   "metadata": {},
   "source": [
    "**well..... the left merge appears to be performing the same way as an outer merge .....** \n",
    "\n",
    "I'm not sure why the \"left\" merge doesn't seem to be working correctly.  \n",
    "  \n",
    "Based on the documentation on `.merge()`: \"left: use only keys from the left frame\""
   ]
  },
  {
   "cell_type": "code",
   "execution_count": 24,
   "id": "240102ca",
   "metadata": {},
   "outputs": [
    {
     "name": "stdout",
     "output_type": "stream",
     "text": [
      "Unique entries in cart: 348\n",
      "Unique entries in checkout: 226\n",
      "\n",
      "Size of inner merge: 360\n"
     ]
    }
   ],
   "source": [
    "# Checking on inner merge of cart and checkout\n",
    "\n",
    "print(\"Unique entries in cart: {}\".format(cart.user_id.nunique()))\n",
    "print(\"Unique entries in checkout: {}\".format(checkout.user_id.nunique()))\n",
    "\n",
    "cart_checkout_inner = pd.merge(cart, checkout, how=\"inner\")\n",
    "print(\"\\nSize of inner merge: {}\".format(len(cart_checkout_inner)))"
   ]
  },
  {
   "cell_type": "markdown",
   "id": "a9ae6728",
   "metadata": {},
   "source": [
    "Looks like there are two issues going on here.  \n",
    "1. There are multiple entries for some user_ids in checkout - which was briefly mentioned above\n",
    "2. It seems that if you only include user_ids from cart, then there are 360 entries for these user_ids\n",
    "3. I believe there are many entries in checkout for user_ids that do not match those of the user_ids in cart. Maybe I'm misunderstanding the user_id system but this seems weird to me.\n",
    "  \n",
    "To confirm the presence of new user_ids in the checkout, I'm going to do an explicit `for` loop to check on this fact."
   ]
  },
  {
   "cell_type": "code",
   "execution_count": 26,
   "id": "e4ee6f84",
   "metadata": {},
   "outputs": [
    {
     "name": "stdout",
     "output_type": "stream",
     "text": [
      "['2be90e7c-9cca-44e0-bcc5-124b945ff168', '4397f73f-1da3-4ab3-91af-762792e25973', 'a9db3d4b-0a0a-4398-a55a-ebb2c7adf663', 'b594862a-36c5-47d5-b818-6e9512b939b3', 'a68a16e2-94f0-4ce8-8ce3-784af0bbb974', '0c998868-9961-490b-8ec2-9981ba667027', 'f783c680-1d9a-437d-9f45-7827299b78fa', 'f3dd7631-3cf6-4d49-9c6e-b48eda4432b5', '4cdd357a-199e-4d81-ae9e-7252fa34ee0f']\n",
      "<class 'list'>\n"
     ]
    }
   ],
   "source": [
    "# First checking out the list/series of user_ids from cart\n",
    "\n",
    "user_ids_cart = cart.user_id.to_list()\n",
    "print(user_ids_cart[:9])\n",
    "print(type(user_ids_cart))"
   ]
  },
  {
   "cell_type": "code",
   "execution_count": null,
   "id": "65ecae66",
   "metadata": {},
   "outputs": [],
   "source": [
    "# Now interating through the list of user_ids from checkout\n",
    "\n",
    "user_ids_checkout = checkout.user_id.to_list()\n",
    "\n",
    "counter = 0\n",
    "\n",
    "for id in user_ids_checkout:\n",
    "    if (id in user_ids_cart):\n",
    "        continue\n",
    "    else:\n",
    "        counter+=1\n",
    "\n",
    "print(counter)\n",
    "\n",
    "## Well counter ends up being 0 .... soooo where are the extra entries coming from ....\n",
    "\n",
    "# Grouped checkout in an above section -- borrowring that df here\n",
    "print(\"Total count of the grouped checkout entries: {}\".format(checkout_by_user.checkout_time.sum()))"
   ]
  },
  {
   "cell_type": "markdown",
   "id": "bc2630e0",
   "metadata": {},
   "source": [
    "I cannot make sense of the values that I am getting for the checkout and cart merge.\n",
    "* Number of entries for left merge: 482\n",
    "* Number of entries for the outer merge: 482 - this should be the theoretical max\n",
    "* Number of entries for inner merge: 360\n",
    "  \n",
    "* Number of user_ids in checkout but not in cart: 0\n",
    "\n",
    "*NOTE: The number above would have been what I expected in practice but does not match the other numbers as far as I can tell so far.*\n",
    "  \n",
    "* Number of unique entries in cart: 348\n",
    "* Number of unique entries in checkout: 226  \n",
    "  \n",
    "For the left merge, there were 122 null time values for \"checkout_time.\"\n",
    "\n",
    "### AHHHHH okay I figured it out\n",
    "\n",
    "There are 348 user_ids in cart.  \n",
    "These user_ids are the only ones associated with the user_ids in checkout.  \n",
    "There are 360 instances of a user_id from cart clicking on checkout.  \n",
    "There are 122 instances of a user_id from cart not clicking on checkout.  \n",
    "  \n",
    "  \n",
    "Then, of the 348 users from cart if we take out the 122 that did not select checkout we end up with the 226 unique users from checkout!"
   ]
  },
  {
   "cell_type": "code",
   "execution_count": 10,
   "id": "bdbaf293",
   "metadata": {},
   "outputs": [
    {
     "name": "stdout",
     "output_type": "stream",
     "text": [
      "                                user_id          visit_time  \\\n",
      "0  943647ef-3682-4750-a2e1-918ba6f16188 2017-04-07 15:14:00   \n",
      "1  0c3a3dd0-fb64-4eac-bf84-ba069ce409f2 2017-01-26 14:24:00   \n",
      "2  6e0b2d60-4027-4d9a-babd-0e7d40859fb1 2017-08-20 08:23:00   \n",
      "3  6879527e-c5a6-4d14-b2da-50b85212b0ab 2017-11-04 18:15:00   \n",
      "4  a84327ff-5daa-4ba1-b789-d5b4caf81e96 2017-02-27 11:25:00   \n",
      "5  7bc62113-d51d-4e6b-85e0-1cf29e3de74a 2017-06-03 20:05:00   \n",
      "6  6f22cd44-bc63-4449-a9af-2651859da2f9 2017-03-18 23:09:00   \n",
      "7  49a6399b-c095-4e42-92eb-af90abe2bb6a 2017-01-10 12:09:00   \n",
      "8  653c095d-fd74-40dd-ae3b-5a69a2613629 2017-06-27 19:21:00   \n",
      "9  3d9fdac1-aae3-4a01-b448-934d12047468 2017-09-24 06:43:00   \n",
      "\n",
      "            cart_time       checkout_time       purchase_time  \n",
      "0                 NaT                 NaT                 NaT  \n",
      "1 2017-01-26 14:44:00 2017-01-26 14:54:00 2017-01-26 15:08:00  \n",
      "2 2017-08-20 08:31:00                 NaT                 NaT  \n",
      "3                 NaT                 NaT                 NaT  \n",
      "4                 NaT                 NaT                 NaT  \n",
      "5                 NaT                 NaT                 NaT  \n",
      "6                 NaT                 NaT                 NaT  \n",
      "7                 NaT                 NaT                 NaT  \n",
      "8                 NaT                 NaT                 NaT  \n",
      "9                 NaT                 NaT                 NaT  \n"
     ]
    }
   ],
   "source": [
    "# asked to combine all of the data now using a series of left merges\n",
    "\n",
    "all_data = visits.merge(cart, how=\"left\")\\\n",
    "                 .merge(checkout, how=\"left\")\\\n",
    "                 .merge(purchase, how=\"left\")\n",
    "print(all_data.head(10))"
   ]
  },
  {
   "cell_type": "code",
   "execution_count": 11,
   "id": "faa5544e",
   "metadata": {},
   "outputs": [
    {
     "name": "stdout",
     "output_type": "stream",
     "text": [
      "\n",
      "Number of Checkouts: 598 | Number of Purchases: 497\n",
      "\n",
      "Number of users who started checkout and did not make a purchase: 101\n",
      "\n",
      "Percentage of users who proceeded to checkout but did not make a purchase: 16.889632%\n"
     ]
    }
   ],
   "source": [
    "# Asked to find \"What percentage of users proceeded to checkout, but did not purchase a t-shirt?\"\n",
    "\n",
    "num_checkout = len(all_data) - all_data.checkout_time.isnull().sum()\n",
    "num_purchase = len(all_data) - all_data.purchase_time.isnull().sum()\n",
    "checkout_no_purchase = (num_checkout - num_purchase)\n",
    "print(\"\\nNumber of Checkouts: {} | Number of Purchases: {}\\n\"\\\n",
    "          .format(num_checkout, num_purchase))\n",
    "print(\"Number of users who started checkout and did not make a purchase: {}\"\\\n",
    "          .format(checkout_no_purchase))\n",
    "\n",
    "print(\"\\nPercentage of users who proceeded to checkout but did not make a purchase: {:4%}\"\\\n",
    "                     .format(float(checkout_no_purchase)/num_checkout))"
   ]
  },
  {
   "cell_type": "code",
   "execution_count": 35,
   "id": "296541e6",
   "metadata": {},
   "outputs": [
    {
     "name": "stdout",
     "output_type": "stream",
     "text": [
      "0     True\n",
      "1    False\n",
      "2     True\n",
      "3     True\n",
      "4     True\n",
      "5     True\n",
      "6     True\n",
      "7     True\n",
      "8     True\n",
      "9     True\n",
      "Name: checkout_time, dtype: bool\n"
     ]
    }
   ],
   "source": [
    "# Confirming there are no entries that ...\n",
    "# have a purchase_time without a checkout_time\n",
    "\n",
    "check_null = lambda purchase_time: True if (purchase_time == \"NaT\") else False\n",
    "\n",
    "# Checking on what \"all_data.checkout_time.isnull()\" looks like\n",
    "print(all_data.checkout_time.isnull().head(10))"
   ]
  },
  {
   "cell_type": "code",
   "execution_count": 37,
   "id": "e7499610",
   "metadata": {},
   "outputs": [
    {
     "name": "stdout",
     "output_type": "stream",
     "text": [
      "If the numbers below are the same size, then all null checkout_times have null purchase_times\n",
      "1774\n",
      "1774\n"
     ]
    }
   ],
   "source": [
    "checkout_null = all_data[all_data.checkout_time.isnull()] # contains only entries with no \"checkout_time\"\n",
    "\n",
    "\n",
    "# checkout_null[\"purchase_null\"] = checkout_null.purchase_time.apply(check_null)\n",
    "# print(checkout_null.head(10))\n",
    "# purchase_without_checkout = checkout_null.groupby(\"purchase_null\").count()\n",
    "\n",
    "print(\"If the numbers below are the same size, then all null checkout_times have null purchase_times\")\n",
    "print(len(checkout_null))\n",
    "print(len(checkout_null.purchase_time.isnull()))"
   ]
  },
  {
   "cell_type": "markdown",
   "id": "1dba8be7",
   "metadata": {},
   "source": [
    "In summary...  \n",
    "* 16.89% of people __did checkout__ but __did not purchase__\n",
    "* 25.31% of users __did add an item to cart__ but __did not proceed to checkout__\n",
    "* 82.6% of users __visited site__ but __did not add item to cart__\n",
    "\n",
    "The weakest step of the funnel is getting users to add an item to their cart once they are on the site.  \n",
    "  \n",
    "As noted above, these are the numbers that were requested (as far as I could tell). However, these numbers do not reflect the fact that some user_ids appear in checkout multiple times. Thus, the 25.31% of users who \"added an item to their cart but did not proceed to checkout\" is actually higher than it looks.  \n",
    "\n",
    "In reality, 122 users from cart did not select checkout from the total of 348 users in cart. This would put the percentage of people who added an item to cart and did not checkout at... (see below)"
   ]
  },
  {
   "cell_type": "code",
   "execution_count": 41,
   "id": "ee4a7722",
   "metadata": {},
   "outputs": [
    {
     "name": "stdout",
     "output_type": "stream",
     "text": [
      "Percent of users in cart who did not checkout (using number of unique users in cart): 35.06%\n"
     ]
    }
   ],
   "source": [
    "print(\"Percent of users in cart who did not checkout (using number of unique users in cart): {:.2%}\"\\\n",
    "                         .format(122.0/348))"
   ]
  },
  {
   "cell_type": "code",
   "execution_count": 43,
   "id": "d48d6e53",
   "metadata": {},
   "outputs": [
    {
     "name": "stdout",
     "output_type": "stream",
     "text": [
      "0                  NaT\n",
      "1      0 days 00:44:00\n",
      "2                  NaT\n",
      "3                  NaT\n",
      "4                  NaT\n",
      "             ...      \n",
      "2367               NaT\n",
      "2368               NaT\n",
      "2369               NaT\n",
      "2370               NaT\n",
      "2371               NaT\n",
      "Name: time_to_purchase, Length: 2372, dtype: timedelta64[ns]\n",
      "0 days 00:43:53.360160965\n"
     ]
    }
   ],
   "source": [
    "# Requested to provide the average time from initial visit to final purchase\n",
    "\n",
    "all_data['time_to_purchase'] = all_data.purchase_time \\\n",
    "                                    - all_data.visit_time\n",
    "\n",
    "print(all_data.time_to_purchase)\n",
    "print(all_data.time_to_purchase.mean())"
   ]
  },
  {
   "cell_type": "markdown",
   "id": "2b02273e",
   "metadata": {},
   "source": [
    "Average time to purchase was about 44 minutes."
   ]
  }
 ],
 "metadata": {
  "kernelspec": {
   "display_name": "Python 3",
   "language": "python",
   "name": "python3"
  },
  "language_info": {
   "codemirror_mode": {
    "name": "ipython",
    "version": 3
   },
   "file_extension": ".py",
   "mimetype": "text/x-python",
   "name": "python",
   "nbconvert_exporter": "python",
   "pygments_lexer": "ipython3",
   "version": "3.9.5"
  }
 },
 "nbformat": 4,
 "nbformat_minor": 5
}
