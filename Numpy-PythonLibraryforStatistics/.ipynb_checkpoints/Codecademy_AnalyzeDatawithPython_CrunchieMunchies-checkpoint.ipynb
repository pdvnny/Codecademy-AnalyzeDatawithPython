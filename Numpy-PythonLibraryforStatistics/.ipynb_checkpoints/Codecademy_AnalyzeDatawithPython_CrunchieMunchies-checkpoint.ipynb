{
 "cells": [
  {
   "cell_type": "markdown",
   "metadata": {},
   "source": [
    "# Parker Dunn\n",
    "\n",
    "#### May 24th, 2021\n",
    "#### Codecademy - Analyze Data with Python Path\n",
    "#### CrunchieMunchies Project"
   ]
  },
  {
   "cell_type": "markdown",
   "metadata": {},
   "source": [
    "Skill Path: Analyze Data with Python  \n",
    "Section: Introduction to Python  \n",
    "Topic: NumPy - A Python Library for Statistics"
   ]
  },
  {
   "cell_type": "markdown",
   "metadata": {},
   "source": [
    "This project builds on the Betty's Bakery project by using more of the statistics features in NumPy  \n",
    "    \n",
    "__Description of Task__: \"You work in marketing for a food company, which is developing a new kind of tasty, wholesome  \n",
    "cereal called CrunchieMunchies. You need to demonstrate to consumers how healthy your creal is in comparson to other brands.  \n",
    "You've dug up nutritional data on several different competitors. Your task is to use NumPy statistical calculations to  \n",
    "analyze this data and prove that your CrunchieMunchies cereal is the healthiest choice for consumers."
   ]
  },
  {
   "cell_type": "code",
   "execution_count": 4,
   "metadata": {},
   "outputs": [
    {
     "name": "stdout",
     "output_type": "stream",
     "text": [
      "CrunchieMunchies: 60 cals\n",
      "Competition: 106.88311688311688 cals\n"
     ]
    }
   ],
   "source": [
    "import numpy as np\n",
    "\n",
    "calorie_stats = np.genfromtxt(\"cereal.csv\",delimiter=\",\")\n",
    "# print(calorie_stats) - used to recreate the data file\n",
    "# cereal.csv contains calorie counts for other cereal brands\n",
    "\n",
    "# Context: \"There are 60 calories per serving of CrunchieMunchies.\"\n",
    "crunch_munch_cals = 60\n",
    "average_calories = np.mean(calorie_stats)\n",
    "print(\"CrunchieMunchies: 60 cals\\nCompetition: {0} cals\".format(average_calories))"
   ]
  },
  {
   "cell_type": "code",
   "execution_count": 3,
   "metadata": {},
   "outputs": [
    {
     "name": "stdout",
     "output_type": "stream",
     "text": [
      "[ 50.  50.  50.  70.  70.  80.  90.  90.  90.  90.  90.  90.  90. 100.\n",
      " 100. 100. 100. 100. 100. 100. 100. 100. 100. 100. 100. 100. 100. 100.\n",
      " 100. 100. 110. 110. 110. 110. 110. 110. 110. 110. 110. 110. 110. 110.\n",
      " 110. 110. 110. 110. 110. 110. 110. 110. 110. 110. 110. 110. 110. 110.\n",
      " 110. 110. 110. 120. 120. 120. 120. 120. 120. 120. 120. 120. 120. 130.\n",
      " 130. 140. 140. 140. 150. 150. 160.]\n"
     ]
    }
   ],
   "source": [
    "calorie_stats_sorted = np.sort(calorie_stats)\n",
    "print(calorie_stats_sorted)\n"
   ]
  },
  {
   "cell_type": "code",
   "execution_count": 5,
   "metadata": {},
   "outputs": [
    {
     "name": "stdout",
     "output_type": "stream",
     "text": [
      "Median: 110.0\n"
     ]
    }
   ],
   "source": [
    "median_calories = np.median(calorie_stats)\n",
    "print(\"Median: {0}\".format(median_calories))"
   ]
  },
  {
   "cell_type": "code",
   "execution_count": 6,
   "metadata": {},
   "outputs": [
    {
     "name": "stdout",
     "output_type": "stream",
     "text": [
      "3\n",
      "\n",
      "20th Percentile: 100.0\n",
      "\n",
      "\n",
      "15th Percentile: 90.0\n",
      "\n",
      "\n",
      "10th Percentile: 90.0\n",
      "\n",
      "\n",
      "5th Percentile: 70.0\n",
      "\n",
      "\n",
      "4th Percentile: 70.0\n",
      "\n"
     ]
    }
   ],
   "source": [
    "first_quarter = np.percentile(calorie_stats,25)\n",
    "second_quarter = np.percentile(calorie_stats,75)\n",
    "\n",
    "#Finding the lowest percentile that is greater than 60 calories\n",
    "nth_percentile = 50\n",
    "percentile_value = np.percentile(calorie_stats,nth_percentile)\n",
    "while percentile_value > 60:\n",
    "  nth_percentile -= 1\n",
    "  percentile_value = np.percentile(calorie_stats,nth_percentile)\n",
    "print(nth_percentile)\n",
    "\n",
    "#Instruction was to print a few percentiles as well, so here are a few percentiles\n",
    "for percentile in [20, 15, 10, 5, 4]:\n",
    "  print(\"\\n{0}th Percentile: {1}\\n\".format(percentile,np.percentile(calorie_stats,percentile)))"
   ]
  },
  {
   "cell_type": "code",
   "execution_count": 7,
   "metadata": {},
   "outputs": [
    {
     "name": "stdout",
     "output_type": "stream",
     "text": [
      "96.1038961038961% of cereals have more calories!\n",
      "\n",
      "Standard Deviation: 19.35718533390827\n"
     ]
    }
   ],
   "source": [
    "#Percentage of cereals with higher calorie counts\n",
    "more_calories = np.mean(calorie_stats > 60)\n",
    "print(\"{0}% of cereals have more calories!\".format(more_calories * 100))\n",
    "\n",
    "calorie_std = np.std(calorie_stats)\n",
    "print(\"\\nStandard Deviation: {0}\".format(calorie_std))"
   ]
  },
  {
   "cell_type": "markdown",
   "metadata": {},
   "source": [
    "### Summary of Results\n",
    "\n",
    "The stats calculated here are basic, but the values given were basic as well.  \n",
    "  \n",
    "The goal was to determine how \"CrunchieMunchies\" at 60 calories (per serving - I assume but info was not provided) compares to the calorie counts of other cereals. CrunchieMunchies's (CM's) calorie count is lower than the median and mean, and comfortably in the lower half of all cereal calorie counts based on the median and mean alone. The percentile/percentage information provides the best comparison for \"how low\" the CM calorie count is; few cereals (only 3 of 77 cereals in this dataset) had lower counts, meaning CM is a healthy option with regard to calorie count. Within the scope of the task and information provided, CM can be considered a healthy cereal."
   ]
  }
 ],
 "metadata": {
  "kernelspec": {
   "display_name": "Python 3",
   "language": "python",
   "name": "python3"
  },
  "language_info": {
   "codemirror_mode": {
    "name": "ipython",
    "version": 3
   },
   "file_extension": ".py",
   "mimetype": "text/x-python",
   "name": "python",
   "nbconvert_exporter": "python",
   "pygments_lexer": "ipython3",
   "version": "3.8.5"
  }
 },
 "nbformat": 4,
 "nbformat_minor": 4
}
