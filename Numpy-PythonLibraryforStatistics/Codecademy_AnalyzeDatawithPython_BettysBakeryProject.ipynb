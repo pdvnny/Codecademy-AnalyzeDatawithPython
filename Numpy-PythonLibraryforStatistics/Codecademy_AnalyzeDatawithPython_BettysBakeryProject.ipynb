{
 "cells": [
  {
   "cell_type": "markdown",
   "metadata": {},
   "source": [
    "# Parker Dunn\n",
    "\n",
    "#### May 19th, 2021\n",
    "#### Codecademy - Analyze Data with Python Path\n",
    "#### Betty's Bakery Project"
   ]
  },
  {
   "cell_type": "markdown",
   "metadata": {},
   "source": [
    "Skill Path: Analyze Data with Python  \n",
    "Section: Introduction to Python  \n",
    "Topic: NumPy - A Python Library for Statistics  "
   ]
  },
  {
   "cell_type": "markdown",
   "metadata": {},
   "source": [
    "Description: This is a project to practice using NumPy. The task is to translate and manipulate cooking receipes  \n",
    "using NumPy arrays."
   ]
  },
  {
   "cell_type": "code",
   "execution_count": 1,
   "metadata": {},
   "outputs": [
    {
     "name": "stdout",
     "output_type": "stream",
     "text": [
      "[[2.    0.75  2.    1.    0.5  ]\n",
      " [1.    0.125 1.    1.    0.125]\n",
      " [2.75  1.5   1.    0.    1.   ]\n",
      " [4.    0.5   2.    2.    0.5  ]]\n",
      "[2. 1. 1. 2.]\n",
      "[False  True  True False]\n",
      "[2.75 1.5  1.   0.   1.  ]\n",
      "[4.  1.5 4.  2.  1. ]\n"
     ]
    }
   ],
   "source": [
    "import numpy as np\n",
    "\n",
    "cupcakes = np.array([2, 0.75, 2, 1, 0.5])\n",
    "\n",
    "# A csv file called \"recipes.csv\" was provided\n",
    "recipes = np.genfromtxt(\"recipes.csv\",delimiter=\",\")\n",
    "\n",
    "print(recipes)\n",
    "\n",
    "# Context: 3rd Column represents the number of eggs that each recipe needs\n",
    "eggs = recipes[:,2]\n",
    "print(eggs)\n",
    "\n",
    "print(eggs == 1) # Recipes 2 and 3 require 1 egg\n",
    "\n",
    "# From recipes.csv: 3rd row is recipe for cookies\n",
    "cookies = recipes[2,:]\n",
    "print(cookies)\n",
    "\n",
    "double_batch = cupcakes * 2\n",
    "print(cupcakes * 2)\n",
    "\n",
    "grocery_list = cookies + double_batch\n",
    "\n",
    "# END OF THE SHORT ASSIGNMENT"
   ]
  }
 ],
 "metadata": {
  "kernelspec": {
   "display_name": "Python 3",
   "language": "python",
   "name": "python3"
  },
  "language_info": {
   "codemirror_mode": {
    "name": "ipython",
    "version": 3
   },
   "file_extension": ".py",
   "mimetype": "text/x-python",
   "name": "python",
   "nbconvert_exporter": "python",
   "pygments_lexer": "ipython3",
   "version": "3.8.5"
  }
 },
 "nbformat": 4,
 "nbformat_minor": 4
}
