{
 "cells": [
  {
   "cell_type": "markdown",
   "metadata": {},
   "source": [
    "## Copyright 2021 Parker Dunn parker_dunn@outlook.com\n",
    "  \n",
    "#### (Alternative: pgdunn@bu.edu | pdunn91@gmail.com)   \n",
    "#### June 5th, 2021\n",
    "\n",
    "### Codecademy - Election Results Project"
   ]
  },
  {
   "cell_type": "markdown",
   "metadata": {},
   "source": [
    "Skill Path: Analyze Data with Python  \n",
    "Section: Numpy - A Python Library for Statistics  \n",
    "Topic: Statistics in NumPy"
   ]
  },
  {
   "cell_type": "markdown",
   "metadata": {},
   "source": [
    "This was the project that came after CrunchieMunchies in this learning path on Codecademy. The project is meast to focus on new material related to more introductory material about Numpy as well as some material on statistical distributions.  \n",
    "\n",
    "__Description of Project__: \"You are part of an impartial research group that conducts phone surveys prior to local elections. During this election season, the group conducted a survey to determine how many people would vote for Cynthia Ceballos vs Justin Kerrigan in the mayoral election.  \n",
    "\n",
    "Now that the election has occured, your group wants to compare the survey responses to the actual results.  \n",
    "\n",
    "Was your survey a good indicator?"
   ]
  },
  {
   "cell_type": "markdown",
   "metadata": {},
   "source": [
    "The contents of \"import codecademylib\" are not provided, but my best guess is that it contains some basic features of Python, which might not have been included in the online Codecademy environment without importing the codecademylib. The module has been included in the past as well to allow the inclusion of files, so it may have been included as a template for the Codecademy projects.\n",
    "  \n"
   ]
  },
  {
   "cell_type": "code",
   "execution_count": 3,
   "metadata": {},
   "outputs": [
    {
     "name": "stdout",
     "output_type": "stream",
     "text": [
      "33\n"
     ]
    }
   ],
   "source": [
    "# import codecademylib\n",
    "import numpy as np\n",
    "from matplotlib import pyplot as plt\n",
    "\n",
    "survey_responses = ['Ceballos', 'Kerrigan', 'Ceballos', 'Ceballos', 'Ceballos','Kerrigan', 'Kerrigan', 'Ceballos', 'Ceballos', 'Ceballos', \n",
    "'Kerrigan', 'Kerrigan', 'Ceballos', 'Ceballos', 'Kerrigan', 'Kerrigan', 'Ceballos', 'Ceballos', 'Kerrigan', 'Kerrigan', 'Kerrigan', 'Kerrigan', 'Kerrigan', 'Kerrigan', 'Ceballos', 'Ceballos', 'Ceballos', 'Ceballos', 'Ceballos', 'Ceballos',\n",
    "'Kerrigan', 'Kerrigan', 'Ceballos', 'Ceballos', 'Ceballos', 'Kerrigan', 'Kerrigan', 'Ceballos', 'Ceballos', 'Kerrigan', 'Kerrigan', 'Ceballos', 'Ceballos', 'Kerrigan', 'Kerrigan', 'Kerrigan', 'Kerrigan', 'Kerrigan', 'Kerrigan', 'Ceballos',\n",
    "'Kerrigan', 'Kerrigan', 'Ceballos', 'Ceballos', 'Ceballos', 'Kerrigan', 'Kerrigan', 'Ceballos', 'Ceballos', 'Kerrigan', 'Kerrigan', 'Ceballos', 'Ceballos', 'Kerrigan', 'Kerrigan', 'Kerrigan', 'Kerrigan', 'Kerrigan', 'Kerrigan', 'Ceballos']\n",
    "\n",
    "# This was used as a quick reminder for myself about how Python lists can be used - been scripting in C++ doesn't work quite as smoothly ... I think\n",
    "# ceballos_list = [1 for candidate in survey_responses if candidate == \"Ceballos\"]\n",
    "# print(ceballos_list)\n",
    "\n",
    "total_ceballos = sum([1 for candidate in survey_responses if candidate == \"Ceballos\"])\n",
    "print(total_ceballos)"
   ]
  },
  {
   "cell_type": "code",
   "execution_count": 5,
   "metadata": {},
   "outputs": [
    {
     "name": "stdout",
     "output_type": "stream",
     "text": [
      "Percentage of 'Ceballos' responses: 47.14285714285714\n",
      "\n",
      "Attempt 2: Percentage of 'Ceballos' responses: 47.14285714285714\n"
     ]
    }
   ],
   "source": [
    "# This was my original approach, which seems beneficial in the long-term\n",
    "responses_array = np.array(survey_responses)\n",
    "percentage_ceballos = np.mean(responses_array == \"Ceballos\")\n",
    "print(\"Percentage of 'Ceballos' responses: {0}\\n\".format(percentage_ceballos * 100))\n",
    "\n",
    "# The hint approach from Codecademy\n",
    "percentage_ceballos_2 = 100.0 * (float(total_ceballos)/ len(survey_responses))\n",
    "print(\"Attempt 2: Percentage of 'Ceballos' responses: {0}\".format(percentage_ceballos_2))"
   ]
  },
  {
   "cell_type": "markdown",
   "metadata": {},
   "source": [
    "The second method (suggested by Codecademy) is a bit of a faster method in the shorter term. Certainly, worth remembering.  \n",
    "\n",
    "The second method does suffer a bit from having to account for types if you aren't careful with the placement of the parenthesis though. No parenthesis ends up being the simplest option actually.\n",
    "\n",
    "Something to keep in mind: \"numpy\" handles type issues (int rounding vs floats vs doubles) better than a traditional coding approach"
   ]
  },
  {
   "cell_type": "code",
   "execution_count": 7,
   "metadata": {},
   "outputs": [
    {
     "data": {
      "image/png": "[encoded data removed]",
      "text/plain": [
       "<Figure size 432x288 with 1 Axes>"
      ]
     },
     "metadata": {
      "needs_background": "light"
     },
     "output_type": "display_data"
    },
    {
     "name": "stdout",
     "output_type": "stream",
     "text": [
      "\n",
      "From the binomial sample, 20.849999999999998% of surveys had Ceballos losing the majority vote (i.e. <50%)\n",
      "\n",
      "[False False False ... False False False]\n",
      "\n",
      "From the new binomial sample (7000 people surveyed), 0.0% of surveys had Ceballos losing the majority vote.\n",
      "\n"
     ]
    }
   ],
   "source": [
    "# \"Checking\" the poll results above vs \"actual\" data provided with problem\n",
    "# Real election voting rate for \"Ceballos\" = 54%\n",
    "# Town population: 10,000 (i.e. number of voters)\n",
    "N = len(survey_responses)\n",
    "possible_surveys = np.random.binomial(N, 0.54, size = 10000) / float(N)\n",
    "# Divide by N to get fraction of the survey that voted for \"Ceballos\" using a 54% \"true\" voting rate for Ceballos\n",
    "\n",
    "# The use of the town's population as the \"size\"/\"number of trials\" doesn't make much in my opinion, but it was the instruction.\n",
    "# Seems like it would make more sense to use a value that nearly guarunteed that everyone in the town was surveyed at least once. Althought I'm not sure if that's something that can easily be calculated right now.\n",
    "\n",
    "plt.hist(possible_surveys, bins = 20, range = (0,1))\n",
    "plt.xlabel(\"Fraction of Survey Responses for Ceballos\")\n",
    "plt.ylabel(\"Occurences in 10,000 trials\")\n",
    "plt.title(\"Estimating survey results based on Ceballos voting rate at 54%\")\n",
    "plt.show()\n",
    "\n",
    "ceballos_loss_surveys = np.mean(possible_surveys < .5)\n",
    "print(\"\\nFrom the binomial sample, {0}% of surveys had Ceballos losing the majority vote (i.e. <50%)\\n\".format(ceballos_loss_surveys * 100))\n",
    "\n",
    "# Obviously, sampling 70 people is not a great sample size, so the assignment was to test what the result would look like with a large sample size for the survey\n",
    "large_survey = np.random.binomial(7000, 0.54, 10000) / float(7000)\n",
    "ceballos_loss_new = np.mean(large_survey < 0.5)\n",
    "print(large_survey < 0.5)   # the end result is unusual so I wanted to preview\n",
    "print(\"\\nFrom the new binomial sample (7000 people surveyed), {0}% of surveys had Ceballos losing the majority vote.\\n\".format(ceballos_loss_new * 100))\n"
   ]
  },
  {
   "cell_type": "markdown",
   "metadata": {},
   "source": [
    "It struck me as very unusual at first that the binomial distribution would go from a losing rate of ~20% to 0.0% when increasing the number of people theoretically surveyed. I had to examine the logical array to double check the work and feel confident. However, on second thought, the survey sample size increased significantly, so it shouldn't be much of a surprise that overall the results are heavily isolated to voting rates for Ceballos that are close to the 54% rate provided.  \n",
    "\n",
    "With a sample size that big, the \"randomness\" included by the numpy method is essentially removed by the sample size."
   ]
  },
  {
   "cell_type": "code",
   "execution_count": 8,
   "metadata": {},
   "outputs": [
    {
     "data": {
      "image/png": "[encoded data removed]",
      "text/plain": [
       "<Figure size 432x288 with 1 Axes>"
      ]
     },
     "metadata": {
      "needs_background": "light"
     },
     "output_type": "display_data"
    }
   ],
   "source": [
    "plt.hist(large_survey, bins = 20, range = (0,1))\n",
    "plt.xlabel(\"Fraction of Survey Responses for Ceballos\")\n",
    "plt.ylabel(\"Occurences among 10,000 trials\")\n",
    "plt.title(\"Survey results for 7,000 surveys and a Ceballos voting rate of 54%\")\n",
    "plt.show()"
   ]
  }
 ],
 "metadata": {
  "kernelspec": {
   "display_name": "Python 3",
   "language": "python",
   "name": "python3"
  },
  "language_info": {
   "codemirror_mode": {
    "name": "ipython",
    "version": 3
   },
   "file_extension": ".py",
   "mimetype": "text/x-python",
   "name": "python",
   "nbconvert_exporter": "python",
   "pygments_lexer": "ipython3",
   "version": "3.8.10"
  }
 },
 "nbformat": 4,
 "nbformat_minor": 4
}
